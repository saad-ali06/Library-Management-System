{
 "cells": [
  {
   "cell_type": "code",
   "execution_count": null,
   "metadata": {},
   "outputs": [],
   "source": []
  },
  {
   "cell_type": "code",
   "execution_count": 1,
   "metadata": {},
   "outputs": [
    {
     "name": "stdout",
     "output_type": "stream",
     "text": [
      "Failed to acquire lock. Another process is reading borrowers.csv\n",
      "Acquired lock. Reading from borrowers.csv\n",
      "{'Name': 'Alice', 'Address': '123 Main St', 'Borrowed Books': ''}\n",
      "{'Name': 'Bob', 'Address': '456 Oak St', 'Borrowed Books': ''}\n"
     ]
    }
   ],
   "source": [
    "import msvcrt\n",
    "import os\n",
    "import time\n",
    "from csv import DictReader\n",
    "\n",
    "def read_file_with_lock(file_path):\n",
    "    try:\n",
    "        # Open the file in binary mode for reading ('rb')\n",
    "        with open(file_path, 'r') as file:\n",
    "            # Attempt to acquire a lock on the file\n",
    "            msvcrt.locking(file.fileno(), msvcrt.LK_RLCK, os.path.getsize(file_path))\n",
    "            print(f\"Acquired lock. Reading from {file_path}\")\n",
    "            reader = DictReader(file)\n",
    "            for row in reader:\n",
    "                print(row)\n",
    "            time.sleep(10)  # Simulating a time-consuming operation\n",
    "    except IOError:\n",
    "        print(f\"Failed to acquire lock. Another process is reading {file_path}\")\n",
    "\n",
    "# Example usage\n",
    "file_path = 'borrowers.csv'\n",
    "\n",
    "# Process 1\n",
    "read_file_with_lock(file_path)\n",
    "\n",
    "# Process 2 (or another script or thread)\n",
    "read_file_with_lock(file_path)"
   ]
  }
 ],
 "metadata": {
  "kernelspec": {
   "display_name": "base",
   "language": "python",
   "name": "python3"
  },
  "language_info": {
   "codemirror_mode": {
    "name": "ipython",
    "version": 3
   },
   "file_extension": ".py",
   "mimetype": "text/x-python",
   "name": "python",
   "nbconvert_exporter": "python",
   "pygments_lexer": "ipython3",
   "version": "3.11.3"
  }
 },
 "nbformat": 4,
 "nbformat_minor": 2
}
