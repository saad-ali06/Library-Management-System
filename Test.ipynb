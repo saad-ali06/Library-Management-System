{
 "cells": [
  {
   "cell_type": "code",
   "execution_count": 1,
   "metadata": {},
   "outputs": [],
   "source": [
    "from re import search\n",
    "from csv import DictReader,DictWriter"
   ]
  },
  {
   "cell_type": "code",
   "execution_count": null,
   "metadata": {},
   "outputs": [],
   "source": [
    "\"\"\"\n",
    "login User function..    \n",
    "\"\"\"\n",
    "def sign_up(user_name,pas_word,filename):\n",
    "    user_pattern = r'[a-z]+\\d*(?:\\.[a-z]+)?\\@'\n",
    "    pas_pattern = r'\\d{5}'\n",
    "    with open(file=filename,mode='r') as csvfile:\n",
    "        reader = DictReader(csvfile)\n",
    "    if search(pattern=user_pattern,string=user_name) & search(pattern=user_pattern,string=user_name):\n",
    "        if search(user_name,reader) == None:\n",
    "            # save user in file\n",
    "            with open(file=filename,mode='r') as csvfile: \n",
    "    "
   ]
  },
  {
   "cell_type": "code",
   "execution_count": 5,
   "metadata": {},
   "outputs": [
    {
     "name": "stdout",
     "output_type": "stream",
     "text": [
      "The Catcher in the Rye\n",
      "To Kill a Mockingbird\n",
      "saad.ali\n",
      "User exists....\n"
     ]
    }
   ],
   "source": [
    "user_name = 'saad.ali'\n",
    "filename = 'inventory.csv'\n",
    "flag = True\n",
    "with open(file=filename, mode='r') as csvfile:\n",
    "    reader = DictReader(csvfile)\n",
    "    # Iterate over rows in the CSV file\n",
    "    for row in reader:\n",
    "        print(row['Title'])\n",
    "        if search(user_name, row['Title']) != None:\n",
    "            flag = False\n",
    "# Save user in file\n",
    "if flag:\n",
    "    with open(file=filename, mode='a', newline='') as csvfile:\n",
    "        # Open the file for appending\n",
    "        writer = DictWriter(csvfile, fieldnames=reader.fieldnames)\n",
    "\n",
    "        # Write the new row\n",
    "        writer.writerow({\n",
    "            'Title': user_name,\n",
    "            # Add other fields as needed\n",
    "        })\n",
    "    flag=False\n",
    "    \n",
    "else:\n",
    "    print(\"User exists....\")"
   ]
  },
  {
   "cell_type": "code",
   "execution_count": 7,
   "metadata": {},
   "outputs": [
    {
     "name": "stdout",
     "output_type": "stream",
     "text": [
      "User 'aizaz.ali' added to the inventory.\n"
     ]
    }
   ],
   "source": [
    "# ....Sign-up ready....\n",
    "\n",
    "from csv import DictReader, DictWriter\n",
    "\n",
    "user_name = 'aizaz.ali'\n",
    "filename = 'inventory.csv'\n",
    "\n",
    "def sign_in(user_name,pas_word,filename):\n",
    "\n",
    "    # Read all rows into a list of dictionaries\n",
    "    with open(filename, mode='r') as csvfile:\n",
    "        reader = DictReader(csvfile)\n",
    "        data_list = list(reader)\n",
    "\n",
    "    # Check if the user exists in the inventory\n",
    "    flag = any(search(user_name, row['User Name']) is not None for row in data_list)\n",
    "\n",
    "    # Save user in file if not found\n",
    "    if not flag:\n",
    "        with open(filename, mode='a', newline='') as csvfile:\n",
    "            # Open the file for appending\n",
    "            writer = DictWriter(csvfile, fieldnames=reader.fieldnames)\n",
    "\n",
    "            # Write the new row\n",
    "            writer.writerow({\n",
    "                'User Name': user_name,\n",
    "                'Password': pas_word\n",
    "            })\n",
    "        print(f\"User '{user_name}' added to the inventory.\")\n",
    "    else:\n",
    "        print(f\"User '{user_name}' already exists in the inventory.\")\n"
   ]
  },
  {
   "cell_type": "code",
   "execution_count": 12,
   "metadata": {},
   "outputs": [
    {
     "ename": "ValueError",
     "evalue": "I/O operation on closed file.",
     "output_type": "error",
     "traceback": [
      "\u001b[1;31m---------------------------------------------------------------------------\u001b[0m",
      "\u001b[1;31mValueError\u001b[0m                                Traceback (most recent call last)",
      "\u001b[1;32md:\\Library Management System\\Test.ipynb Cell 3\u001b[0m line \u001b[0;36m6\n\u001b[0;32m      <a href='vscode-notebook-cell:/d%3A/Library%20Management%20System/Test.ipynb#W6sZmlsZQ%3D%3D?line=3'>4</a>\u001b[0m \u001b[39mwith\u001b[39;00m \u001b[39mopen\u001b[39m(file\u001b[39m=\u001b[39mfilename,mode\u001b[39m=\u001b[39m\u001b[39m'\u001b[39m\u001b[39mr\u001b[39m\u001b[39m'\u001b[39m) \u001b[39mas\u001b[39;00m csvfile:\n\u001b[0;32m      <a href='vscode-notebook-cell:/d%3A/Library%20Management%20System/Test.ipynb#W6sZmlsZQ%3D%3D?line=4'>5</a>\u001b[0m     reader \u001b[39m=\u001b[39m DictReader(csvfile)\n\u001b[1;32m----> <a href='vscode-notebook-cell:/d%3A/Library%20Management%20System/Test.ipynb#W6sZmlsZQ%3D%3D?line=5'>6</a>\u001b[0m \u001b[39mfor\u001b[39;49;00m row \u001b[39min\u001b[39;49;00m reader: \n\u001b[0;32m      <a href='vscode-notebook-cell:/d%3A/Library%20Management%20System/Test.ipynb#W6sZmlsZQ%3D%3D?line=6'>7</a>\u001b[0m     \u001b[39mif\u001b[39;49;00m search(user_name,row[\u001b[39m'\u001b[39;49m\u001b[39mTitle\u001b[39;49m\u001b[39m'\u001b[39;49m]) \u001b[39m==\u001b[39;49m \u001b[39mNone\u001b[39;49;00m:\n\u001b[0;32m      <a href='vscode-notebook-cell:/d%3A/Library%20Management%20System/Test.ipynb#W6sZmlsZQ%3D%3D?line=7'>8</a>\u001b[0m             \u001b[39m# save user in file\u001b[39;49;00m\n\u001b[0;32m      <a href='vscode-notebook-cell:/d%3A/Library%20Management%20System/Test.ipynb#W6sZmlsZQ%3D%3D?line=8'>9</a>\u001b[0m             \u001b[39mwith\u001b[39;49;00m \u001b[39mopen\u001b[39;49m(file\u001b[39m=\u001b[39;49mfilename,mode\u001b[39m=\u001b[39;49m\u001b[39m'\u001b[39;49m\u001b[39ma\u001b[39;49m\u001b[39m'\u001b[39;49m) \u001b[39mas\u001b[39;49;00m csvfile:\n",
      "File \u001b[1;32mC:\\Program Files\\Python311\\Lib\\csv.py:110\u001b[0m, in \u001b[0;36mDictReader.__next__\u001b[1;34m(self)\u001b[0m\n\u001b[0;32m    107\u001b[0m \u001b[39mdef\u001b[39;00m \u001b[39m__next__\u001b[39m(\u001b[39mself\u001b[39m):\n\u001b[0;32m    108\u001b[0m     \u001b[39mif\u001b[39;00m \u001b[39mself\u001b[39m\u001b[39m.\u001b[39mline_num \u001b[39m==\u001b[39m \u001b[39m0\u001b[39m:\n\u001b[0;32m    109\u001b[0m         \u001b[39m# Used only for its side effect.\u001b[39;00m\n\u001b[1;32m--> 110\u001b[0m         \u001b[39mself\u001b[39;49m\u001b[39m.\u001b[39;49mfieldnames\n\u001b[0;32m    111\u001b[0m     row \u001b[39m=\u001b[39m \u001b[39mnext\u001b[39m(\u001b[39mself\u001b[39m\u001b[39m.\u001b[39mreader)\n\u001b[0;32m    112\u001b[0m     \u001b[39mself\u001b[39m\u001b[39m.\u001b[39mline_num \u001b[39m=\u001b[39m \u001b[39mself\u001b[39m\u001b[39m.\u001b[39mreader\u001b[39m.\u001b[39mline_num\n",
      "File \u001b[1;32mC:\\Program Files\\Python311\\Lib\\csv.py:97\u001b[0m, in \u001b[0;36mDictReader.fieldnames\u001b[1;34m(self)\u001b[0m\n\u001b[0;32m     95\u001b[0m \u001b[39mif\u001b[39;00m \u001b[39mself\u001b[39m\u001b[39m.\u001b[39m_fieldnames \u001b[39mis\u001b[39;00m \u001b[39mNone\u001b[39;00m:\n\u001b[0;32m     96\u001b[0m     \u001b[39mtry\u001b[39;00m:\n\u001b[1;32m---> 97\u001b[0m         \u001b[39mself\u001b[39m\u001b[39m.\u001b[39m_fieldnames \u001b[39m=\u001b[39m \u001b[39mnext\u001b[39m(\u001b[39mself\u001b[39m\u001b[39m.\u001b[39mreader)\n\u001b[0;32m     98\u001b[0m     \u001b[39mexcept\u001b[39;00m \u001b[39mStopIteration\u001b[39;00m:\n\u001b[0;32m     99\u001b[0m         \u001b[39mpass\u001b[39;00m\n",
      "\u001b[1;31mValueError\u001b[0m: I/O operation on closed file."
     ]
    }
   ],
   "source": [
    "user_name = 'saad.ali'\n",
    "filename = 'inventory.csv'\n",
    "with open(file=filename,mode='r') as csvfile:\n",
    "    reader = DictReader(csvfile)\n",
    "for row in reader: \n",
    "    if search(user_name,row['Title']) == None:\n",
    "            # save user in file\n",
    "            with open(file=filename,mode='a') as csvfile:\n",
    "                fieldnames = ['Title', 'Author', 'ISBN', 'Quantity Available']\n",
    "                writer = DictWriter(csvfile, fieldnames=fieldnames)\n",
    "                writer.writerow({'Title':user_name,\n",
    "                                'Author':pas_word})\n",
    "    else:\n",
    "        print(\"Name already Exist....\")\n",
    "                    \n",
    "                 "
   ]
  },
  {
   "cell_type": "code",
   "execution_count": 3,
   "metadata": {},
   "outputs": [
    {
     "name": "stdout",
     "output_type": "stream",
     "text": [
      "{'Name': 'Alice', 'Address': '123 Main St', 'Borrowed Books': ''}\n",
      "{'Name': 'Bob', 'Address': '456 Oak St', 'Borrowed Books': ''}\n"
     ]
    },
    {
     "data": {
      "text/plain": [
       "csv.DictReader"
      ]
     },
     "execution_count": 3,
     "metadata": {},
     "output_type": "execute_result"
    }
   ],
   "source": [
    "filename= \"borrowers.csv\"\n",
    "with open(filename, 'r') as csvfile:\n",
    "        reader = DictReader(csvfile)\n",
    "        for row in reader:\n",
    "            print(row)\n",
    "            \n",
    "type(reader)"
   ]
  },
  {
   "cell_type": "code",
   "execution_count": 6,
   "metadata": {},
   "outputs": [
    {
     "data": {
      "text/plain": [
       "csv.DictReader"
      ]
     },
     "execution_count": 6,
     "metadata": {},
     "output_type": "execute_result"
    }
   ],
   "source": [
    "type(reader)"
   ]
  },
  {
   "cell_type": "code",
   "execution_count": 7,
   "metadata": {},
   "outputs": [
    {
     "data": {
      "text/plain": [
       "['', 'The Catcher in the Rye']"
      ]
     },
     "execution_count": 7,
     "metadata": {},
     "output_type": "execute_result"
    }
   ],
   "source": [
    "s = \", The Catcher in the Rye\"\n",
    "new_s = s.split(', ')\n",
    "new_s"
   ]
  },
  {
   "cell_type": "code",
   "execution_count": null,
   "metadata": {},
   "outputs": [],
   "source": []
  }
 ],
 "metadata": {
  "kernelspec": {
   "display_name": "base",
   "language": "python",
   "name": "python3"
  },
  "language_info": {
   "codemirror_mode": {
    "name": "ipython",
    "version": 3
   },
   "file_extension": ".py",
   "mimetype": "text/x-python",
   "name": "python",
   "nbconvert_exporter": "python",
   "pygments_lexer": "ipython3",
   "version": "3.11.4"
  }
 },
 "nbformat": 4,
 "nbformat_minor": 2
}
